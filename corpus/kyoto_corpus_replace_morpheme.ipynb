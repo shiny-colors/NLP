{
 "cells": [
  {
   "cell_type": "code",
   "execution_count": null,
   "metadata": {},
   "outputs": [],
   "source": [
    "# ライブラリの読み込み\n",
    "import numpy as np\n",
    "import pandas as pd\n",
    "import matplotlib.pyplot  as plt\n",
    "import itertools\n",
    "import time\n",
    "import re\n",
    "import os\n",
    "import glob\n",
    "import jaconv\n",
    "import mojimoji\n",
    "from numpy.random import *\n",
    "\n",
    "pd.set_option(\"display.max_rows\", 250)\n",
    "pd.set_option(\"display.max_columns\", 100)"
   ]
  },
  {
   "cell_type": "markdown",
   "metadata": {},
   "source": [
    "## データの読み込み"
   ]
  },
  {
   "cell_type": "code",
   "execution_count": null,
   "metadata": {
    "scrolled": true
   },
   "outputs": [],
   "source": [
    "# データの読み込み\n",
    "# ファイルの読み込み\n",
    "path = \"C:/statistics/data/scenario_extract/tdb/corpus/\"\n",
    "kyoto_info = pd.read_csv(path + \"kyoto_info.csv\", encoding=\"shift-jis\").iloc[:, 1:]\n",
    "kyoto_morpheme = kyoto_info[[\"serial_no\", \"flag\", \"genkei\", \"reading\", \"word_class\", \n",
    "                             \"class_detail1\", \"class_detail2\", \"class_detail3\"]]\n",
    "genkei = np.array(kyoto_morpheme[\"genkei\"])"
   ]
  },
  {
   "cell_type": "markdown",
   "metadata": {},
   "source": [
    "## 形態素を置き換え"
   ]
  },
  {
   "cell_type": "code",
   "execution_count": null,
   "metadata": {},
   "outputs": [],
   "source": [
    "# 単語および品詞単独での形態素を置き換え\n",
    "# 助詞を置き換え\n",
    "index_positional = np.where((kyoto_morpheme[\"word_class\"]==\"助詞\") & (kyoto_morpheme[\"flag\"]==1))[0].astype(\"int\")\n",
    "genkei[index_positional] = np.array(kyoto_morpheme[\"reading\"].iloc[index_positional])\n",
    "\n",
    "# 人名を置き換え\n",
    "index_name = np.where(kyoto_morpheme[\"class_detail1\"]==\"人名\")[0].astype(\"int\")\n",
    "genkei[index_name] = \"安倍\"\n",
    "\n",
    "# 数値を置き換え\n",
    "index_number = np.where(kyoto_morpheme[\"class_detail1\"]==\"数詞\")[0].astype(\"int\")\n",
    "genkei[index_number] = \"0\"\n",
    "\n",
    "# 地名を置き換え\n",
    "index_locale1 = np.where((kyoto_morpheme[\"class_detail1\"]==\"地名\") & (kyoto_morpheme[\"reading\"]==\"にほん\"))[0].astype(\"int\")\n",
    "index_locale2 = np.where((kyoto_morpheme[\"class_detail1\"]==\"地名\") & (kyoto_morpheme[\"reading\"]==\"にっぽん\"))[0].astype(\"int\")\n",
    "index_locale = np.unique(np.append(index_locale1, index_locale2))\n",
    "genkei[index_locale] = \"日本\"\n",
    "\n",
    "# アルファベットを置き換え\n",
    "index_alphabet = np.where(kyoto_morpheme[\"reading\"].str.contains(\"^[a-zA-ZＡ-ｚ0-9０-９]+$\"))[0].astype(\"int\")\n",
    "alphabet = np.array(kyoto_morpheme[\"reading\"].iloc[index_alphabet])\n",
    "alphabet = np.array([mojimoji.zen_to_han(alphabet[i]) for i in range(alphabet.shape[0])])\n",
    "genkei[index_alphabet] = alphabet"
   ]
  },
  {
   "cell_type": "code",
   "execution_count": null,
   "metadata": {},
   "outputs": [],
   "source": [
    "# 品詞と品詞クラスの組み合わせでの形態素の置き換え\n",
    "# 助動詞を置き換え\n",
    "index = np.where((kyoto_morpheme[\"word_class\"]==\"助動詞\") & (pd.isna(kyoto_morpheme[\"genkei\"])==False))[0]\n",
    "aux_morpheme = kyoto_morpheme[[\"genkei\", \"reading\", \"class_detail1\", \"class_detail2\"]].iloc[index]\n",
    "aux_morpheme = aux_morpheme.iloc[np.where(aux_morpheme[[\"reading\", \"class_detail1\", \"class_detail2\"]].duplicated()==False)[0]]\n",
    "aux_morpheme = aux_morpheme.rename(columns={\"genkei\": \"new_genkei\"})\n",
    "aux_morpheme.index = np.arange(aux_morpheme.shape[0])\n",
    "joint_morpheme = pd.merge(kyoto_morpheme, aux_morpheme, on=[\"reading\", \"class_detail1\", \"class_detail2\"], how=\"left\")\n",
    "joint_morpheme = joint_morpheme[[\"serial_no\", \"flag\", \"new_genkei\", \"reading\", \"word_class\"]]\n",
    "index_aux = np.where((joint_morpheme[\"flag\"]==1) & (pd.isna(joint_morpheme[\"new_genkei\"])==False) & \n",
    "                     (joint_morpheme[\"word_class\"]==\"助動詞\"))[0].astype(\"int\")\n",
    "genkei[index_aux] = np.array(joint_morpheme[\"new_genkei\"].iloc[index_aux])"
   ]
  },
  {
   "cell_type": "code",
   "execution_count": null,
   "metadata": {},
   "outputs": [],
   "source": [
    "# 形容詞を置き換え\n",
    "index = np.where((kyoto_morpheme[\"word_class\"]==\"形容詞\") & (pd.isna(kyoto_morpheme[\"genkei\"])==False))[0]\n",
    "adverb_morpheme = kyoto_morpheme[[\"genkei\", \"reading\", \"class_detail1\", \"class_detail2\"]].iloc[index]\n",
    "adverb_morpheme = adverb_morpheme.iloc[np.where(adverb_morpheme[[\"reading\", \"class_detail1\", \"class_detail2\"]].duplicated()==False)[0]]\n",
    "adverb_morpheme = adverb_morpheme.rename(columns={\"genkei\": \"new_genkei\"})\n",
    "adverb_morpheme.index = np.arange(adverb_morpheme.shape[0])\n",
    "joint_morpheme = pd.merge(kyoto_morpheme, adverb_morpheme, on=[\"reading\", \"class_detail1\", \"class_detail2\"], how=\"left\")\n",
    "joint_morpheme = joint_morpheme[[\"serial_no\", \"flag\", \"new_genkei\", \"reading\", \"word_class\"]]\n",
    "index_adverb = np.where((joint_morpheme[\"flag\"]==1) & (pd.isna(joint_morpheme[\"new_genkei\"])==False) &\n",
    "                        (joint_morpheme[\"word_class\"]==\"形容詞\"))[0].astype(\"int\")\n",
    "genkei[index_adverb] = np.array(joint_morpheme[\"new_genkei\"].iloc[index_adverb])"
   ]
  },
  {
   "cell_type": "code",
   "execution_count": null,
   "metadata": {
    "scrolled": true
   },
   "outputs": [],
   "source": [
    "# その他の品詞を置き換え\n",
    "index1 = np.where((kyoto_morpheme[\"word_class\"]==\"指示詞\") & (pd.isna(kyoto_morpheme[\"genkei\"])==False))[0]\n",
    "index2 = np.where((kyoto_morpheme[\"word_class\"]==\"接続詞\") & (pd.isna(kyoto_morpheme[\"genkei\"])==False))[0]\n",
    "index3 = np.where((kyoto_morpheme[\"word_class\"]==\"連体詞\") & (pd.isna(kyoto_morpheme[\"genkei\"])==False))[0]\n",
    "index = np.unique(np.hstack((index1, index2, index3)))\n",
    "other_morpheme = kyoto_morpheme[[\"genkei\", \"reading\", \"word_class\", \"class_detail1\", \"class_detail2\"]].iloc[index]\n",
    "other_morpheme = other_morpheme.iloc[np.where(other_morpheme[[\"reading\", \"word_class\", \n",
    "                                                              \"class_detail1\", \"class_detail2\"]].duplicated()==False)[0]]\n",
    "other_morpheme = other_morpheme.rename(columns={\"genkei\": \"new_genkei\"})\n",
    "other_morpheme.index = np.arange(other_morpheme.shape[0])\n",
    "joint_morpheme = pd.merge(kyoto_morpheme, other_morpheme, on=[\"reading\", \"word_class\", \"class_detail1\", \"class_detail2\"], how=\"left\")\n",
    "joint_morpheme = joint_morpheme[[\"serial_no\", \"flag\", \"new_genkei\", \"reading\", \"word_class\"]]\n",
    "index_other = np.where((joint_morpheme[\"flag\"]==1) & (pd.isna(joint_morpheme[\"new_genkei\"])==False) &\n",
    "                       ((joint_morpheme[\"word_class\"]==\"指示詞\") | (joint_morpheme[\"word_class\"]==\"接続詞\") |\n",
    "                        (joint_morpheme[\"word_class\"]==\"連体詞\")))[0].astype(\"int\")\n",
    "genkei[index_other] = np.array(joint_morpheme[\"new_genkei\"].iloc[index_other])"
   ]
  },
  {
   "cell_type": "code",
   "execution_count": null,
   "metadata": {},
   "outputs": [],
   "source": [
    "np.sum(pd.isna(genkei)==True)"
   ]
  },
  {
   "cell_type": "code",
   "execution_count": null,
   "metadata": {},
   "outputs": [],
   "source": []
  },
  {
   "cell_type": "code",
   "execution_count": null,
   "metadata": {},
   "outputs": [],
   "source": []
  },
  {
   "cell_type": "code",
   "execution_count": null,
   "metadata": {},
   "outputs": [],
   "source": [
    "kyoto_morpheme"
   ]
  },
  {
   "cell_type": "code",
   "execution_count": null,
   "metadata": {},
   "outputs": [],
   "source": []
  }
 ],
 "metadata": {
  "kernelspec": {
   "display_name": "Python 3",
   "language": "python",
   "name": "python3"
  },
  "language_info": {
   "codemirror_mode": {
    "name": "ipython",
    "version": 3
   },
   "file_extension": ".py",
   "mimetype": "text/x-python",
   "name": "python",
   "nbconvert_exporter": "python",
   "pygments_lexer": "ipython3",
   "version": "3.7.5"
  }
 },
 "nbformat": 4,
 "nbformat_minor": 4
}
